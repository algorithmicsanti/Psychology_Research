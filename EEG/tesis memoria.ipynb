{
 "cells": [
  {
   "cell_type": "code",
   "execution_count": 3,
   "metadata": {},
   "outputs": [
    {
     "name": "stdout",
     "output_type": "stream",
     "text": [
      "El número de participantes únicos es: 154\n"
     ]
    }
   ],
   "source": [
    "import pandas as pd\n",
    "\n",
    "# Cargar el archivo CSV\n",
    "# Suponiendo que el archivo esté en un archivo llamado 'learning_data.csv'\n",
    "df = pd.read_csv(\"C:/Users/santi/Downloads/learning_data_fromR.csv\")\n",
    "\n",
    "# Contar los IDs únicos en la columna 'participant'\n",
    "unique_participants = df['participant'].nunique()\n",
    "\n",
    "# Mostrar el número de participantes únicos\n",
    "print(f\"El número de participantes únicos es: {unique_participants}\")\n"
   ]
  },
  {
   "cell_type": "code",
   "execution_count": 5,
   "metadata": {},
   "outputs": [
    {
     "name": "stdout",
     "output_type": "stream",
     "text": [
      "Participantes que hablan italiano: 92\n",
      "Participantes que hablan francés: 62\n"
     ]
    }
   ],
   "source": [
    "# Contar participantes únicos por idioma\n",
    "italian_participants = df[df['lang_c'] == -0.5]['participant'].nunique()\n",
    "french_participants = df[df['lang_c'] == 0.5]['participant'].nunique()\n",
    "\n",
    "# Mostrar el número de participantes por idioma\n",
    "print(f\"Participantes que hablan italiano: {italian_participants}\")\n",
    "print(f\"Participantes que hablan francés: {french_participants}\")\n"
   ]
  },
  {
   "cell_type": "code",
   "execution_count": 6,
   "metadata": {},
   "outputs": [
    {
     "name": "stdout",
     "output_type": "stream",
     "text": [
      "participant\n",
      "AP1        192\n",
      "AP10       192\n",
      "AP11       192\n",
      "AP12       192\n",
      "AP13       192\n",
      "          ... \n",
      "PARIR60    192\n",
      "PARIR61    192\n",
      "PARIR62    192\n",
      "PARIR63    192\n",
      "PARIR64    192\n",
      "Length: 154, dtype: int64\n"
     ]
    }
   ],
   "source": [
    "# Contar el número de filas por cada participante\n",
    "trials_per_participant = df.groupby('participant').size()\n",
    "\n",
    "# Mostrar el número de ensayos por participante\n",
    "print(trials_per_participant)"
   ]
  }
 ],
 "metadata": {
  "kernelspec": {
   "display_name": "psych",
   "language": "python",
   "name": "python3"
  },
  "language_info": {
   "codemirror_mode": {
    "name": "ipython",
    "version": 3
   },
   "file_extension": ".py",
   "mimetype": "text/x-python",
   "name": "python",
   "nbconvert_exporter": "python",
   "pygments_lexer": "ipython3",
   "version": "3.11.3"
  }
 },
 "nbformat": 4,
 "nbformat_minor": 2
}
