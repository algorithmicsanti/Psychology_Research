{
 "cells": [
  {
   "cell_type": "code",
   "execution_count": null,
   "metadata": {},
   "outputs": [],
   "source": [
    "import matplotlib.pyplot as plt\n",
    "import numpy as np\n",
    "import pandas as pd\n",
    "import scipy.stats as stats\n",
    "import statsmodels.api as sm\n",
    "from statsmodels.formula.api import ols\n",
    "from statsmodels.stats.multicomp import pairwise_tukeyhsd"
   ]
  },
  {
   "cell_type": "code",
   "execution_count": null,
   "metadata": {},
   "outputs": [],
   "source": [
    "df = pd.read_csv()"
   ]
  },
  {
   "cell_type": "code",
   "execution_count": null,
   "metadata": {},
   "outputs": [],
   "source": [
    "# Boxplot\n",
    "fig, ax = plt.subplots(figsize=(12, 6))\n",
    "ax.boxplot([df[group] for group in df.columns], showmeans=True)\n",
    "\n",
    "# Customize the plot\n",
    "ax.set_title('Puntaje Por Grupo')\n",
    "ax.set_xlabel('Grupo')\n",
    "ax.set_ylabel('Items Recordados')\n",
    "ax.set_xticklabels(df.columns)\n",
    "\n",
    "# Show the plot\n",
    "plt.show()"
   ]
  },
  {
   "cell_type": "code",
   "execution_count": null,
   "metadata": {},
   "outputs": [],
   "source": [
    "# Supuestos ANOVA Factorial\n",
    "# Test normality for each group\n",
    "for group in df.columns:\n",
    "    _, p_value = stats.shapiro(df[group].dropna())\n",
    "    print(f\"Shapiro-Wilk Test for {group}: p-value = {p_value:.4f}\")\n",
    "\n",
    "# Test homogeneity of variances using Levene's test\n",
    "_, p_value = stats.levene(*[df[group].dropna() for group in df.columns])\n",
    "print(f\"Levene's Test: p-value = {p_value:.4f}\")\n"
   ]
  },
  {
   "cell_type": "code",
   "execution_count": null,
   "metadata": {},
   "outputs": [],
   "source": [
    "# ANOVA Factorial"
   ]
  },
  {
   "cell_type": "code",
   "execution_count": null,
   "metadata": {},
   "outputs": [],
   "source": [
    "# Comparaciones Múltiples\n",
    "\n",
    "tukey_results = pairwise_tukeyhsd(data['asertividad'].dropna(),\n",
    "                                   data['grupo'].dropna(),\n",
    "                                   alpha=0.05)\n",
    "print(tukey_results)"
   ]
  }
 ],
 "metadata": {
  "kernelspec": {
   "display_name": "psych",
   "language": "python",
   "name": "python3"
  },
  "language_info": {
   "name": "python",
   "version": "3.11.3"
  },
  "orig_nbformat": 4
 },
 "nbformat": 4,
 "nbformat_minor": 2
}
