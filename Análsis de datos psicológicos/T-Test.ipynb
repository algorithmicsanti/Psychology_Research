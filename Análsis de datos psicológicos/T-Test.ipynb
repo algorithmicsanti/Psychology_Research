{
 "cells": [
  {
   "attachments": {},
   "cell_type": "markdown",
   "metadata": {},
   "source": [
    "T Test Grado de Autoritarismo"
   ]
  },
  {
   "cell_type": "code",
   "execution_count": 2,
   "metadata": {},
   "outputs": [],
   "source": [
    "import pandas as pd\n",
    "import matplotlib as plt\n",
    "import matplotlib.pyplot as plt\n",
    "import scipy.stats as stats\n",
    "import statsmodels.api as sm\n",
    "from statsmodels.formula.api import ols\n",
    "import pandas as pd\n",
    "from scipy import stats\n",
    "df_1 = pd.read_csv(\"C:/Users/santi/Downloads/T de student - Hoja 1.csv\") "
   ]
  },
  {
   "cell_type": "code",
   "execution_count": 3,
   "metadata": {},
   "outputs": [
    {
     "data": {
      "text/html": [
       "<div>\n",
       "<style scoped>\n",
       "    .dataframe tbody tr th:only-of-type {\n",
       "        vertical-align: middle;\n",
       "    }\n",
       "\n",
       "    .dataframe tbody tr th {\n",
       "        vertical-align: top;\n",
       "    }\n",
       "\n",
       "    .dataframe thead th {\n",
       "        text-align: right;\n",
       "    }\n",
       "</style>\n",
       "<table border=\"1\" class=\"dataframe\">\n",
       "  <thead>\n",
       "    <tr style=\"text-align: right;\">\n",
       "      <th></th>\n",
       "      <th>Particular</th>\n",
       "      <th>Publica</th>\n",
       "    </tr>\n",
       "  </thead>\n",
       "  <tbody>\n",
       "    <tr>\n",
       "      <th>0</th>\n",
       "      <td>140</td>\n",
       "      <td>90</td>\n",
       "    </tr>\n",
       "    <tr>\n",
       "      <th>1</th>\n",
       "      <td>110</td>\n",
       "      <td>95</td>\n",
       "    </tr>\n",
       "    <tr>\n",
       "      <th>2</th>\n",
       "      <td>128</td>\n",
       "      <td>65</td>\n",
       "    </tr>\n",
       "    <tr>\n",
       "      <th>3</th>\n",
       "      <td>110</td>\n",
       "      <td>70</td>\n",
       "    </tr>\n",
       "    <tr>\n",
       "      <th>4</th>\n",
       "      <td>100</td>\n",
       "      <td>45</td>\n",
       "    </tr>\n",
       "    <tr>\n",
       "      <th>5</th>\n",
       "      <td>95</td>\n",
       "      <td>35</td>\n",
       "    </tr>\n",
       "    <tr>\n",
       "      <th>6</th>\n",
       "      <td>44</td>\n",
       "      <td>22</td>\n",
       "    </tr>\n",
       "    <tr>\n",
       "      <th>7</th>\n",
       "      <td>36</td>\n",
       "      <td>60</td>\n",
       "    </tr>\n",
       "    <tr>\n",
       "      <th>8</th>\n",
       "      <td>21</td>\n",
       "      <td>18</td>\n",
       "    </tr>\n",
       "  </tbody>\n",
       "</table>\n",
       "</div>"
      ],
      "text/plain": [
       "   Particular  Publica\n",
       "0         140       90\n",
       "1         110       95\n",
       "2         128       65\n",
       "3         110       70\n",
       "4         100       45\n",
       "5          95       35\n",
       "6          44       22\n",
       "7          36       60\n",
       "8          21       18"
      ]
     },
     "execution_count": 3,
     "metadata": {},
     "output_type": "execute_result"
    }
   ],
   "source": [
    "df_1"
   ]
  },
  {
   "cell_type": "code",
   "execution_count": 4,
   "metadata": {},
   "outputs": [
    {
     "data": {
      "image/png": "[encoded data removed]",
      "text/plain": [
       "<Figure size 640x480 with 1 Axes>"
      ]
     },
     "metadata": {},
     "output_type": "display_data"
    }
   ],
   "source": [
    "mean_values = df_1.mean()\n",
    "\n",
    "# Create a list of colors for each bar\n",
    "colors = ['red' if col == 'Particular' else 'purple' for col in mean_values.index]\n",
    "\n",
    "# Plot a bar graph of the mean values with colors\n",
    "plt.bar(mean_values.index, mean_values.values, color=colors)\n",
    "\n",
    "# Set the y-axis label\n",
    "plt.ylabel('Grado de autoritarismo')\n",
    "\n",
    "# Set the title of the graph\n",
    "plt.title('Autoritarismo')\n",
    "\n",
    "# Display the graph\n",
    "plt.show()"
   ]
  },
  {
   "cell_type": "code",
   "execution_count": 5,
   "metadata": {},
   "outputs": [
    {
     "name": "stdout",
     "output_type": "stream",
     "text": [
      "Levene's Test: p-value = 0.3600\n"
     ]
    }
   ],
   "source": [
    "# Test homogeneity of variances using Levene's test\n",
    "_, p_value = stats.levene(*[df_1[group].dropna() for group in df_1.columns])\n",
    "print(f\"Levene's Test: p-value = {p_value:.4f}\")"
   ]
  },
  {
   "cell_type": "code",
   "execution_count": 6,
   "metadata": {},
   "outputs": [
    {
     "name": "stdout",
     "output_type": "stream",
     "text": [
      "Estadístico t: 1.8602764199809867\n",
      "Valor p: 0.08132903945496393\n"
     ]
    }
   ],
   "source": [
    "# Realizar la prueba t de Student\n",
    "t_statistic, p_value = stats.ttest_ind(df_1['Particular'], df_1['Publica'])\n",
    "print(\"Estadístico t:\", t_statistic)\n",
    "print(\"Valor p:\", p_value)"
   ]
  },
  {
   "attachments": {},
   "cell_type": "markdown",
   "metadata": {},
   "source": [
    "No hay suficiente significancia para rechazar la hipótesis nula por lo se rechaza la hipótesis alternativa: Existe una diferencia significativa en el grado de autoritarismo entre los maestros de escuelas particulares y públicas. "
   ]
  },
  {
   "attachments": {},
   "cell_type": "markdown",
   "metadata": {},
   "source": [
    "T Student Relacionada (muestras dependientes)"
   ]
  },
  {
   "cell_type": "code",
   "execution_count": 7,
   "metadata": {},
   "outputs": [],
   "source": [
    "df_2 = pd.DataFrame({'Antes': [100, 200, 180, 90, 49, 110, 185, 170, 165, 160],\n",
    "                     'Después': [90, 60, 75, 85, 40, 65, 75, 95, 85, 70]})\n"
   ]
  },
  {
   "cell_type": "code",
   "execution_count": 8,
   "metadata": {},
   "outputs": [
    {
     "data": {
      "image/png": "[encoded data removed]",
      "text/plain": [
       "<Figure size 640x480 with 1 Axes>"
      ]
     },
     "metadata": {},
     "output_type": "display_data"
    }
   ],
   "source": [
    "mean_values = df_2.mean()\n",
    "\n",
    "# Create a list of colors for each bar\n",
    "colors = ['blue' if col == 'Antes' else 'green' for col in mean_values.index]\n",
    "\n",
    "# Plot a bar graph of the mean values with colors\n",
    "plt.bar(mean_values.index, mean_values.values, color=colors)\n",
    "\n",
    "# Set the y-axis label\n",
    "plt.ylabel('Actitudes de Contaminación Ambiental')\n",
    "\n",
    "# Set the title of the graph\n",
    "plt.title('Cambio en la actitud')\n",
    "\n",
    "# Display the graph\n",
    "plt.show()"
   ]
  },
  {
   "cell_type": "code",
   "execution_count": 9,
   "metadata": {},
   "outputs": [
    {
     "name": "stdout",
     "output_type": "stream",
     "text": [
      "Levene's Test: p-value = 0.0353\n"
     ]
    }
   ],
   "source": [
    "# Test homogeneity of variances using Levene's test\n",
    "_, p_value = stats.levene(*[df_2[group].dropna() for group in df_2.columns])\n",
    "print(f\"Levene's Test: p-value = {p_value:.4f}\")"
   ]
  },
  {
   "cell_type": "code",
   "execution_count": 10,
   "metadata": {},
   "outputs": [
    {
     "name": "stdout",
     "output_type": "stream",
     "text": [
      "Estadístico t: 4.451774564034863\n",
      "Valor p: 0.0015960996317085996\n"
     ]
    }
   ],
   "source": [
    "# Realizar la prueba t de Student\n",
    "t_statistic, p_value = stats.ttest_rel(df_2['Antes'], df_2['Después'])\n",
    "print(\"Estadístico t:\", t_statistic)\n",
    "print(\"Valor p:\", p_value)\n"
   ]
  },
  {
   "attachments": {},
   "cell_type": "markdown",
   "metadata": {},
   "source": [
    "Existen diferencias significativas en la actitud de los adultos mayores respecto a la contaminación ambiental después de la intervención."
   ]
  }
 ],
 "metadata": {
  "kernelspec": {
   "display_name": "psych",
   "language": "python",
   "name": "python3"
  },
  "language_info": {
   "codemirror_mode": {
    "name": "ipython",
    "version": 3
   },
   "file_extension": ".py",
   "mimetype": "text/x-python",
   "name": "python",
   "nbconvert_exporter": "python",
   "pygments_lexer": "ipython3",
   "version": "3.11.3"
  },
  "orig_nbformat": 4
 },
 "nbformat": 4,
 "nbformat_minor": 2
}
